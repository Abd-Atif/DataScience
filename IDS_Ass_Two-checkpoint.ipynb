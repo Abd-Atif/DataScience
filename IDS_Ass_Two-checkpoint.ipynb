{
 "cells": [
  {
   "cell_type": "code",
   "execution_count": null,
   "id": "60ddc303",
   "metadata": {},
   "outputs": [],
   "source": [
    "#       Introduction to Data Science\n",
    "#             Assignment - 2\n",
    "#           M Abdurrehman Atif\n",
    "#            L1S18BSCS0092\n",
    "#             Section: G4"
   ]
  },
  {
   "cell_type": "code",
   "execution_count": 39,
   "id": "f240f6e4",
   "metadata": {},
   "outputs": [
    {
     "name": "stdout",
     "output_type": "stream",
     "text": [
      "Printing Array : \n",
      "[[b'' b'']\n",
      " [b'' b'']\n",
      " [b'' b'']\n",
      " [b'' b'']]\n",
      "\n",
      "Printing Attributes : \n",
      "                       1>. Array Shape is:  (4, 2)\n",
      "                       2>. Array dimensions are  2\n",
      "                       3>. Length of each element of array in bytes is  1\n"
     ]
    }
   ],
   "source": [
    "#            Question - 1\n",
    "\n",
    "import numpy as np\n",
    "Array = np.empty([4,2] , dtype = 'S') # S - string\n",
    "print(\"Printing Array : \")\n",
    "print(Array)\n",
    "print(\"\\nPrinting Attributes : \")\n",
    "print(\"                       1>. Array Shape is: \", Array.shape)\n",
    "print(\"                       2>. Array dimensions are \", Array.ndim)\n",
    "print(\"                       3>. Length of each element of array in bytes is \", Array.itemsize)"
   ]
  },
  {
   "cell_type": "code",
   "execution_count": 73,
   "id": "23fe170b",
   "metadata": {},
   "outputs": [
    {
     "name": "stdout",
     "output_type": "stream",
     "text": [
      "Printing Array : \n"
     ]
    },
    {
     "ename": "ValueError",
     "evalue": "cannot reshape array of size 27 into shape (5,2)",
     "output_type": "error",
     "traceback": [
      "\u001b[1;31m---------------------------------------------------------------------------\u001b[0m",
      "\u001b[1;31mValueError\u001b[0m                                Traceback (most recent call last)",
      "\u001b[1;32m<ipython-input-73-402c5f339ecf>\u001b[0m in \u001b[0;36m<module>\u001b[1;34m\u001b[0m\n\u001b[0;32m      7\u001b[0m \u001b[1;31m#print(\"Create a 5X2 integer array from a range between 100 to 500 such that the difference between each element is 15 \")\u001b[0m\u001b[1;33m\u001b[0m\u001b[1;33m\u001b[0m\u001b[1;33m\u001b[0m\u001b[0m\n\u001b[0;32m      8\u001b[0m \u001b[0mArray\u001b[0m \u001b[1;33m=\u001b[0m \u001b[0mnp\u001b[0m\u001b[1;33m.\u001b[0m\u001b[0marange\u001b[0m\u001b[1;33m(\u001b[0m\u001b[1;36m100\u001b[0m\u001b[1;33m,\u001b[0m \u001b[1;36m500\u001b[0m\u001b[1;33m,\u001b[0m \u001b[1;36m15\u001b[0m\u001b[1;33m)\u001b[0m\u001b[1;33m\u001b[0m\u001b[1;33m\u001b[0m\u001b[0m\n\u001b[1;32m----> 9\u001b[1;33m \u001b[0mArray\u001b[0m \u001b[1;33m=\u001b[0m \u001b[0mArray\u001b[0m\u001b[1;33m.\u001b[0m\u001b[0mreshape\u001b[0m\u001b[1;33m(\u001b[0m\u001b[1;36m5\u001b[0m\u001b[1;33m,\u001b[0m\u001b[1;36m2\u001b[0m\u001b[1;33m)\u001b[0m\u001b[1;33m\u001b[0m\u001b[1;33m\u001b[0m\u001b[0m\n\u001b[0m\u001b[0;32m     10\u001b[0m \u001b[0mprint\u001b[0m \u001b[1;33m(\u001b[0m\u001b[1;34m\"\\n\"\u001b[0m\u001b[1;33m,\u001b[0m\u001b[0mArray\u001b[0m\u001b[1;33m)\u001b[0m\u001b[1;33m\u001b[0m\u001b[1;33m\u001b[0m\u001b[0m\n",
      "\u001b[1;31mValueError\u001b[0m: cannot reshape array of size 27 into shape (5,2)"
     ]
    }
   ],
   "source": [
    "#            Question - 2\n",
    "\n",
    "import numpy as np\n",
    "#Array = np.empty([5,2] , dtype = 'i') # S - string\n",
    "print(\"Printing Array : \")\n",
    "print(\"Create a 5X2 integer array from a range between 100 to 500 such that the difference between each element is 15 \")\n",
    "Array = np.arange(100, 500, 15)  \n",
    "Array = Array.reshape(5,2) #cannot reshape array of size 27 into shape (5,2)\n",
    "print (\"\\n\",Array)"
   ]
  },
  {
   "cell_type": "code",
   "execution_count": 6,
   "id": "385674eb",
   "metadata": {},
   "outputs": [
    {
     "name": "stdout",
     "output_type": "stream",
     "text": [
      "Printing Input Array : \n",
      "[[11 22 33]\n",
      " [44 55 66]\n",
      " [77 88 99]]\n",
      "\n",
      " Printing array of items in the second column from all rows : \n",
      "[22 55 88]\n"
     ]
    }
   ],
   "source": [
    "#            Question - 3\n",
    "\n",
    "import numpy as np\n",
    "arr = np.array([[11 ,22, 33], [44, 55, 66], [77, 88, 99]]) \n",
    "print(\"Printing Input Array : \")\n",
    "print(arr)\n",
    "print(\"\\n Printing array of items in the second column from all rows : \")\n",
    "newArray = arr[...,1]\n",
    "print(newArray)"
   ]
  },
  {
   "cell_type": "code",
   "execution_count": 95,
   "id": "85c58bbb",
   "metadata": {},
   "outputs": [
    {
     "name": "stdout",
     "output_type": "stream",
     "text": [
      "Printing Input Array : \n",
      "[[ 3  6  9 12]\n",
      " [15 18 21 24]\n",
      " [27 30 33 36]\n",
      " [39 42 45 48]\n",
      " [51 54 57 60]]\n",
      "\n",
      " Printing array of even rows and odd columns : \n",
      "[[15 21]\n",
      " [39 45]]\n"
     ]
    }
   ],
   "source": [
    "#            Question - 4\n",
    "\n",
    "import numpy as np\n",
    "Array = np.array([[3 ,6, 9, 12], [15 ,18, 21, 24], [27 ,30, 33, 36], [39 ,42, 45, 48], [51 ,54, 57, 60]]) \n",
    "print(\"Printing Input Array : \")\n",
    "print(Array)\n",
    "print(\"\\n Printing array of even rows and odd columns : \")\n",
    "newArray = Array[1::2, ::2]\n",
    "print(newArray)"
   ]
  },
  {
   "cell_type": "code",
   "execution_count": 105,
   "id": "a7f4727e",
   "metadata": {},
   "outputs": [
    {
     "name": "stdout",
     "output_type": "stream",
     "text": [
      "After Addition : \n",
      "\n",
      "[[20 41 30]\n",
      " [25 25 28]]\n",
      "\n",
      " After cube :  \n",
      "\n",
      "[[ 8000 68921 27000]\n",
      " [15625 15625 21952]]\n"
     ]
    }
   ],
   "source": [
    "#            Question - 5\n",
    "\n",
    "import numpy as np\n",
    "arrOne = np.array([[5, 8, 6], [21 ,20, 27]])\n",
    "arrTwo = np.array([[15 ,33, 24], [4 ,5, 1]])\n",
    "resultArray = arrOne + arrTwo\n",
    "print(\"After Addition : \\n\")\n",
    "print(resultArray)\n",
    "for num in np.nditer(resultArray, op_flags = ['readwrite']):\n",
    "    num[...] = num*num*num\n",
    "print(\"\\n After cube :  \\n\")\n",
    "print(resultArray)"
   ]
  },
  {
   "cell_type": "code",
   "execution_count": 118,
   "id": "4232e3a0",
   "metadata": {},
   "outputs": [
    {
     "name": "stdout",
     "output_type": "stream",
     "text": [
      "Creating 8x3 array using numpy.arange : \n",
      "[[ 1  2  3]\n",
      " [ 4  5  6]\n",
      " [ 7  8  9]\n",
      " [10 11 12]\n",
      " [13 14 15]\n",
      " [16 17 18]\n",
      " [19 20 21]\n",
      " [22 23 24]]\n",
      "\n",
      "Dividing 8X3 array into 4 sub array\n",
      "\n",
      "[array([[1, 2, 3],\n",
      "       [4, 5, 6]]), array([[ 7,  8,  9],\n",
      "       [10, 11, 12]]), array([[13, 14, 15],\n",
      "       [16, 17, 18]]), array([[19, 20, 21],\n",
      "       [22, 23, 24]])]\n"
     ]
    }
   ],
   "source": [
    "#            Question - 6\n",
    "\n",
    "import numpy as np\n",
    "print(\"Creating 8x3 array using numpy.arange : \")\n",
    "Array = np.arange(1, 25, 1)\n",
    "Array = Array.reshape(8,3)\n",
    "print (Array)\n",
    "print(\"\\nDividing 8X3 array into 4 sub array\\n\")\n",
    "subArrays = np.split(Array, 4) \n",
    "print(subArrays)\n"
   ]
  },
  {
   "cell_type": "code",
   "execution_count": 123,
   "id": "f8c6bd54",
   "metadata": {},
   "outputs": [
    {
     "name": "stdout",
     "output_type": "stream",
     "text": [
      "Printing Original array : \n",
      "[[34 43 73]\n",
      " [82 22 12]\n",
      " [53 94 66]]\n",
      "\n",
      "Sorting Original array by second row : \n",
      "[[73 43 34]\n",
      " [12 22 82]\n",
      " [66 94 53]]\n",
      "\n",
      "Sorting Original array by second column : \n",
      "[[82 22 12]\n",
      " [34 43 73]\n",
      " [53 94 66]]\n"
     ]
    }
   ],
   "source": [
    "#            Question - 7\n",
    "\n",
    "import numpy as np\n",
    "print(\"Printing Original array : \")\n",
    "Array = np.array([[34,43,73],[82,22,12],[53,94,66]]) \n",
    "print(Array)\n",
    "sortArrayByRow = Array[:,Array[1,:].argsort()]\n",
    "print(\"\\nSorting Original array by second row : \")\n",
    "print(sortArrayByRow)\n",
    "print(\"\\nSorting Original array by second column : \")\n",
    "sortArrayByColumn = Array[Array[:,1].argsort()]\n",
    "print(sortArrayByColumn)"
   ]
  },
  {
   "cell_type": "code",
   "execution_count": 127,
   "id": "334c97c1",
   "metadata": {},
   "outputs": [
    {
     "name": "stdout",
     "output_type": "stream",
     "text": [
      "Printing Original array : \n",
      "[[34 43 73]\n",
      " [82 22 12]\n",
      " [53 94 66]]\n",
      "\n",
      "Printing a min of Axis 1 : \n",
      "[34 12 53]\n",
      "Printing a max of Axis 0 : \n",
      "[82 94 73]\n"
     ]
    }
   ],
   "source": [
    "#            Question - 8\n",
    "\n",
    "\n",
    "import numpy as np\n",
    "print(\"Printing Original array : \")\n",
    "Array = np.array([[34,43,73],[82,22,12],[53,94,66]]) \n",
    "print(Array)\n",
    "minOfAxisOne = np.amin(Array, 1) \n",
    "print(\"\\nPrinting a min of Axis 1 : \")\n",
    "print(minOfAxisOne)\n",
    "maxOfAxisOne = np.amax(sampleArray, 0) \n",
    "print(\"Printing a max of Axis 0 : \")\n",
    "print(maxOfAxisOne)"
   ]
  },
  {
   "cell_type": "code",
   "execution_count": null,
   "id": "314dd9c8",
   "metadata": {},
   "outputs": [],
   "source": []
  }
 ],
 "metadata": {
  "kernelspec": {
   "display_name": "Python 3",
   "language": "python",
   "name": "python3"
  },
  "language_info": {
   "codemirror_mode": {
    "name": "ipython",
    "version": 3
   },
   "file_extension": ".py",
   "mimetype": "text/x-python",
   "name": "python",
   "nbconvert_exporter": "python",
   "pygments_lexer": "ipython3",
   "version": "3.8.8"
  }
 },
 "nbformat": 4,
 "nbformat_minor": 5
}
