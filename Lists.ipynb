{
 "cells": [
  {
   "cell_type": "markdown",
   "metadata": {},
   "source": [
    "<h4 align=center>How can we store the given Table</h4>\n",
    "\n",
    "| Track Number | Track Name | Price | Currency | Rating Count Total | User Rating |\n",
    "| ----------- | ----------- | ----------- | ----------- | ----------- | ----------- |\n",
    "| 0 | Facebook | 0.0 | USD | 2974676 | 3.5 |\n",
    "| 1 | Instagram | 0.0 | USD | 2161558 | 4.5 |\n",
    "| 2 | Clash of Clans | 0.0 | USD | 2130805 | 4.5 |\n",
    "| 3 | Temple Run | 0.0 | USD | 1724546 | 4.5 |\n",
    "| 4 | Pandora - Music Radio | 0.0 | USD | 1126879 | 4.0 |\n",
    "\n",
    "Data source: [Mobile App Store data set By Ramanathan Perumal](https://www.kaggle.com/ramamet4/app-store-apple-data-set-10k-apps)\n",
    "\n",
    "Each value in the table is a data point. For instance, the first row has five data points:\n",
    "\n",
    "    Facebook\n",
    "    0.0\n",
    "    USD\n",
    "    2974676\n",
    "    3.5\n",
    "\n",
    "A collection of data points make up a data set. We can understand our entire table above as a collection of data points, so we call the entire table a data set. We can see that our data set has five rows and five columns.\n",
    "\n",
    "When we work with data sets, we need to store them in the computer memory to be able to retrieve and manipulate the data points. Using what we've learned so far, we might think we could store each data point in a variable — for instance, this is how we might store the first row's data points:\n",
    "<code>\n",
    "    track_name_row1 = Facebook\n",
    "    price_row1 = 0.0\n",
    "    currency_row1 = 'USD'\n",
    "    rating_count_tot_row1 = 2974676\n",
    "    user_rating_row1 = 3.5\n",
    "</code>\n",
    "\n",
    "Creating a variable for each data point in our data set would be a cumbersome process. Fortunately, we can store data more efficiently using lists. This is how we can create a list of data points for the first row:\n",
    "<code>\n",
    "    row_1 = ['Facebook', 0.0, 'USD', 2974676, 3.5]\n",
    "</code> \n",
    "To create a list of data points, we only need to:\n",
    "\n",
    "    1. Separate the data points with a comma.\n",
    "    2. Surround the sequence of data points with brackets.\n",
    "\n",
    "Now create all the rows:"
   ]
  },
  {
   "cell_type": "code",
   "execution_count": 1,
   "metadata": {},
   "outputs": [
    {
     "name": "stdout",
     "output_type": "stream",
     "text": [
      "['0', 'Facebook', 0.0, 'USD', 2974676, 3.5]\n"
     ]
    }
   ],
   "source": [
    "row1 = [\"0\", 'Facebook', 0.0, 'USD', 2974676, 3.5]\n",
    "print(row1)"
   ]
  },
  {
   "cell_type": "markdown",
   "metadata": {},
   "source": [
    "List can store multiple data types\n",
    "We can access each datapoint by considering List as an order sequence. In order to retrive rating of facebook:\n",
    "<code>\n",
    "    fb_rating = row_1[4]\n",
    "</code>\n",
    "    1. Notice that if we use an index number that is outside the range of the two indexing systems. \n",
    "    2. Negative indexing can also be used, mostly to fetch the last element of list.\n",
    "\n",
    "<b>Now try to fetch rating of Instagram</b>"
   ]
  },
  {
   "cell_type": "code",
   "execution_count": 4,
   "metadata": {},
   "outputs": [
    {
     "name": "stdout",
     "output_type": "stream",
     "text": [
      "4\n"
     ]
    }
   ],
   "source": [
    "row1[-1] = 4\n",
    "print(row1[-1])"
   ]
  },
  {
   "cell_type": "code",
   "execution_count": null,
   "metadata": {},
   "outputs": [],
   "source": []
  },
  {
   "cell_type": "code",
   "execution_count": null,
   "metadata": {},
   "outputs": [],
   "source": []
  },
  {
   "cell_type": "code",
   "execution_count": null,
   "metadata": {},
   "outputs": [],
   "source": []
  },
  {
   "cell_type": "code",
   "execution_count": 5,
   "metadata": {},
   "outputs": [
    {
     "name": "stdout",
     "output_type": "stream",
     "text": [
      "[0, 'Facebook', 0.0, 'USD', 2974676, 4]\n"
     ]
    }
   ],
   "source": [
    "print(row1)"
   ]
  },
  {
   "cell_type": "markdown",
   "metadata": {},
   "source": [
    "Retrieve the ratings for the first three rows, and then find the average value of all the ratings retrieved.\n",
    "\n",
    "    1. Assign the last element from the list row_1 to a variable named rating_1. Try to take advantage of negative indexing.\n",
    "    2. Assign the last element from the list row_2 to a variable named rating_2.\n",
    "    3. Assign the last element from the list row_3 to a variable named rating_3.\n",
    "    4. Add the three ratings together and save the sum to a variable named total_rating.\n",
    "    5. Divide the total by 3 to get the average rating. Assign the result to a variable named average_rating.\n",
    "    6. Print average_rating"
   ]
  },
  {
   "cell_type": "code",
   "execution_count": null,
   "metadata": {},
   "outputs": [],
   "source": []
  },
  {
   "cell_type": "code",
   "execution_count": null,
   "metadata": {},
   "outputs": [],
   "source": []
  },
  {
   "cell_type": "code",
   "execution_count": null,
   "metadata": {},
   "outputs": [],
   "source": []
  },
  {
   "cell_type": "code",
   "execution_count": null,
   "metadata": {},
   "outputs": [],
   "source": []
  },
  {
   "cell_type": "code",
   "execution_count": 3,
   "metadata": {},
   "outputs": [
    {
     "name": "stdout",
     "output_type": "stream",
     "text": [
      "Average is :  12.5\n"
     ]
    }
   ],
   "source": [
    "\n",
    "row2=[1,'Instagram',0.0,'USD',2161558,4.5]\n",
    "row3=[2,'Clash of Clans',0.0,'USD',2130805,4.5]\n",
    "\n",
    "rating_1=row1[-1]\n",
    "rating_2=row2[-1]\n",
    "rating_3=row3[-1]\n",
    "\n",
    "total=rating_1+rating_2+rating_3\n",
    "avg=total/3\n",
    "print(\"Average is : \", total)"
   ]
  },
  {
   "cell_type": "markdown",
   "metadata": {},
   "source": [
    "<b>Lets discuss few usefull functions of lists</b>\n",
    "    1. Add elements to a list\n",
    "    2. Access sub lists\n",
    "    3. Search within lists\n",
    "    4. Delete elements from a list\n",
    "[Other functions](https://docs.python.org/3/tutorial/datastructures.html)"
   ]
  },
  {
   "cell_type": "code",
   "execution_count": 5,
   "metadata": {},
   "outputs": [
    {
     "data": {
      "text/plain": [
       "['0', 'Facebook', 0.0, 'USD', 2974676, 3.5, 4.5, 4.5]"
      ]
     },
     "execution_count": 5,
     "metadata": {},
     "output_type": "execute_result"
    }
   ],
   "source": [
    "row1.append(4.5)\n",
    "row1"
   ]
  },
  {
   "cell_type": "markdown",
   "metadata": {},
   "source": [
    "<h3 align=center>We can use append for that?</h3>"
   ]
  },
  {
   "cell_type": "code",
   "execution_count": 16,
   "metadata": {},
   "outputs": [
    {
     "data": {
      "text/plain": [
       "[0, 'Facebook', 0.0, 'USD', 2974676, 4, 4.5]"
      ]
     },
     "execution_count": 16,
     "metadata": {},
     "output_type": "execute_result"
    }
   ],
   "source": [
    "row1"
   ]
  },
  {
   "cell_type": "markdown",
   "metadata": {},
   "source": [
    "<h3 align=center>What about the start</h3>"
   ]
  },
  {
   "cell_type": "code",
   "execution_count": 10,
   "metadata": {},
   "outputs": [
    {
     "name": "stdout",
     "output_type": "stream",
     "text": [
      "['a', '0', 'Facebook', 0.0, 'USD', 2974676, 3.5, 4.5, 4.5]\n"
     ]
    }
   ],
   "source": [
    "row1.insert(0,'a')\n",
    "print(row1)"
   ]
  },
  {
   "cell_type": "markdown",
   "metadata": {},
   "source": [
    "<h3 align=center>Slice Elements</h3>"
   ]
  },
  {
   "cell_type": "code",
   "execution_count": 11,
   "metadata": {},
   "outputs": [
    {
     "data": {
      "text/plain": [
       "['Facebook', 0.0, 'USD', 2974676, 3.5, 4.5, 4.5]"
      ]
     },
     "execution_count": 11,
     "metadata": {},
     "output_type": "execute_result"
    }
   ],
   "source": [
    "row1[2:]"
   ]
  },
  {
   "cell_type": "markdown",
   "metadata": {},
   "source": [
    "<h3 align=center>Delete Elements</h3>"
   ]
  },
  {
   "cell_type": "code",
   "execution_count": 16,
   "metadata": {},
   "outputs": [],
   "source": [
    "row1.append(4.5)"
   ]
  },
  {
   "cell_type": "code",
   "execution_count": 17,
   "metadata": {},
   "outputs": [
    {
     "name": "stdout",
     "output_type": "stream",
     "text": [
      "['a', 0, 'Facebook', 0.0, 'USD', 2974676, 4, 4.5]\n"
     ]
    }
   ],
   "source": [
    "print(row1)"
   ]
  },
  {
   "cell_type": "code",
   "execution_count": 18,
   "metadata": {},
   "outputs": [],
   "source": [
    "row1.remove(4.5)"
   ]
  },
  {
   "cell_type": "code",
   "execution_count": 19,
   "metadata": {},
   "outputs": [
    {
     "data": {
      "text/plain": [
       "['a', 0, 'Facebook', 0.0, 'USD', 2974676, 4]"
      ]
     },
     "execution_count": 19,
     "metadata": {},
     "output_type": "execute_result"
    }
   ],
   "source": [
    "row1"
   ]
  },
  {
   "cell_type": "code",
   "execution_count": 20,
   "metadata": {},
   "outputs": [],
   "source": [
    "a=[1,2,3,4,3]"
   ]
  },
  {
   "cell_type": "code",
   "execution_count": 9,
   "metadata": {},
   "outputs": [
    {
     "data": {
      "text/plain": [
       "[1, 2, 4]"
      ]
     },
     "execution_count": 9,
     "metadata": {},
     "output_type": "execute_result"
    }
   ],
   "source": [
    "a.remove(3)\n",
    "a"
   ]
  },
  {
   "cell_type": "code",
   "execution_count": null,
   "metadata": {},
   "outputs": [],
   "source": []
  },
  {
   "cell_type": "code",
   "execution_count": null,
   "metadata": {},
   "outputs": [],
   "source": []
  },
  {
   "cell_type": "markdown",
   "metadata": {},
   "source": [
    "<h3 align=center>Search Elements</h3>"
   ]
  },
  {
   "cell_type": "code",
   "execution_count": null,
   "metadata": {},
   "outputs": [],
   "source": []
  },
  {
   "cell_type": "code",
   "execution_count": null,
   "metadata": {},
   "outputs": [],
   "source": []
  },
  {
   "cell_type": "code",
   "execution_count": null,
   "metadata": {},
   "outputs": [],
   "source": []
  },
  {
   "cell_type": "code",
   "execution_count": 19,
   "metadata": {},
   "outputs": [
    {
     "name": "stdout",
     "output_type": "stream",
     "text": [
      "4\n"
     ]
    },
    {
     "data": {
      "text/plain": [
       "7"
      ]
     },
     "execution_count": 19,
     "metadata": {},
     "output_type": "execute_result"
    }
   ],
   "source": [
    "print(row1.index('USD'))\n",
    "row1\n",
    "row1.index(4.5)"
   ]
  },
  {
   "cell_type": "code",
   "execution_count": 25,
   "metadata": {},
   "outputs": [
    {
     "name": "stdout",
     "output_type": "stream",
     "text": [
      "[1, 2, 3]\n"
     ]
    }
   ],
   "source": [
    "L1 = [1,2,3]\n",
    "L2 = L1\n",
    "print(L2)"
   ]
  },
  {
   "cell_type": "code",
   "execution_count": 26,
   "metadata": {},
   "outputs": [
    {
     "name": "stdout",
     "output_type": "stream",
     "text": [
      "['e', 2, 3]\n"
     ]
    }
   ],
   "source": [
    "L2[0] = 'e'\n",
    "print(L1)"
   ]
  },
  {
   "cell_type": "markdown",
   "metadata": {},
   "source": [
    "<h3 align=center>Pop Elements</h3>"
   ]
  },
  {
   "cell_type": "code",
   "execution_count": 27,
   "metadata": {},
   "outputs": [
    {
     "name": "stdout",
     "output_type": "stream",
     "text": [
      "3\n",
      "['e', 2]\n"
     ]
    }
   ],
   "source": [
    "print(L2.pop())\n",
    "print(L2)"
   ]
  },
  {
   "cell_type": "markdown",
   "metadata": {},
   "source": [
    "<h3 align=center>Nested Lists</h3>"
   ]
  },
  {
   "cell_type": "code",
   "execution_count": null,
   "metadata": {},
   "outputs": [],
   "source": []
  },
  {
   "cell_type": "markdown",
   "metadata": {},
   "source": [
    "<h3 align=center>Lists Traversal</h3>"
   ]
  },
  {
   "cell_type": "markdown",
   "metadata": {},
   "source": [
    "Compute the average rating of the apps by retrieving the right data points from the dataset1/dataset2 list of lists.\n",
    "\n",
    "    1. The rating is the last element of each row. You'll need to sum up the ratings and then divide by the number of ratings.\n",
    "    2. Assign the result to a variable named avg_rating.\n",
    "    \n",
    "<b>Note: Use loops for this tasks</b>\n",
    "\n",
    "Some other functions explore yourself\n",
    "1. help(B)\n",
    "2. List extend VS append\n",
    "    B.append(['e','f','g'])\n",
    "    B.extend(['e','f','g'])\n",
    "    print(B)\n",
    "3. Use split function for strings\n",
    "4. What if we want to copy Lists\n",
    "    L1 = ['a','b','c']\n",
    "    L2 = L1\n",
    "    L2[0]='e'\n",
    "    print(L1)\n",
    "5. For clone\n",
    "    L2 = L1[:]\n",
    "    L2[0]='x'\n",
    "    print(L1)\n",
    "    print(L2)"
   ]
  },
  {
   "cell_type": "code",
   "execution_count": 28,
   "metadata": {},
   "outputs": [
    {
     "name": "stdout",
     "output_type": "stream",
     "text": [
      "21.0\n"
     ]
    }
   ],
   "source": [
    "row_1 = ['Facebook', 0.0, 'USD', 2974676, 3.5]\n",
    "row_2 = ['Instagram', 0.0, 'USD', 2161558, 4.5]\n",
    "row_3 = ['Clash of Clans', 0.0, 'USD', 2130805, 4.5]\n",
    "row_4 = ['Temple Run', 0.0, 'USD', 1724546, 4.5]\n",
    "row_5 = ['Pandora - Music & Radio', 0.0, 'USD', 1126879, 4.0]\n",
    "\n",
    "app_data_set = [row_1, row_2, row_3, row_4, row_5]\n",
    "\n",
    "avg=0\n",
    "for count in range(0,5):\n",
    "    avg=avg+app_data_set[count][-1]\n",
    "    \n",
    "print(avg)\n",
    "#avg_rating = (app_data_set[0][-1] + app_data_set[1][-1] + app_data_set[2][-1] + app_data_set[3][-1] + app_data_set[4][-1]) / 5"
   ]
  },
  {
   "cell_type": "code",
   "execution_count": null,
   "metadata": {},
   "outputs": [],
   "source": []
  },
  {
   "cell_type": "code",
   "execution_count": null,
   "metadata": {},
   "outputs": [],
   "source": []
  },
  {
   "cell_type": "code",
   "execution_count": 3,
   "metadata": {},
   "outputs": [
    {
     "data": {
      "text/plain": [
       "list"
      ]
     },
     "execution_count": 3,
     "metadata": {},
     "output_type": "execute_result"
    }
   ],
   "source": [
    "l4 = list()\n",
    "type(l4)"
   ]
  },
  {
   "cell_type": "code",
   "execution_count": null,
   "metadata": {},
   "outputs": [],
   "source": []
  }
 ],
 "metadata": {
  "kernelspec": {
   "display_name": "Python 3",
   "language": "python",
   "name": "python3"
  },
  "language_info": {
   "codemirror_mode": {
    "name": "ipython",
    "version": 3
   },
   "file_extension": ".py",
   "mimetype": "text/x-python",
   "name": "python",
   "nbconvert_exporter": "python",
   "pygments_lexer": "ipython3",
   "version": "3.8.8"
  }
 },
 "nbformat": 4,
 "nbformat_minor": 2
}
