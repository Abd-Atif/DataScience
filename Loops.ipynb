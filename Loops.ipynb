{
 "cells": [
  {
   "cell_type": "markdown",
   "metadata": {},
   "source": [
    "<h3 align=\"center\">While Loop</h3>"
   ]
  },
  {
   "cell_type": "code",
   "execution_count": 4,
   "metadata": {},
   "outputs": [
    {
     "name": "stdout",
     "output_type": "stream",
     "text": [
      "Current counter value is  0\n",
      "Current counter value is  1\n",
      "Current counter value is  2\n",
      "Current counter value is  3\n",
      "Current counter value is  4\n",
      "Current counter value is  5\n",
      "Current counter value is  6\n",
      "Current counter value is  7\n",
      "Current counter value is  8\n",
      "Loop End\n"
     ]
    }
   ],
   "source": [
    "count = 0\n",
    "\n",
    "while(count < 9):\n",
    "    print('Current counter value is ',(count))\n",
    "    count = count + 1\n",
    "    \n",
    "print(\"Loop End\")"
   ]
  },
  {
   "cell_type": "code",
   "execution_count": 4,
   "metadata": {},
   "outputs": [
    {
     "name": "stdout",
     "output_type": "stream",
     "text": [
      "Current counter value is 0\n",
      "Current counter value is 1\n",
      "Current counter value is 2\n",
      "Current counter value is 3\n",
      "Current counter value is 4\n",
      "Current counter value is 5\n",
      "Current counter value is 6\n",
      "Current counter value is 7\n",
      "Current counter value is 8\n",
      "do Loop End\n"
     ]
    }
   ],
   "source": [
    "count = 0\n",
    "\n",
    "while(True):\n",
    "    print('Current counter value is '+ str(count))\n",
    "    count = count + 1\n",
    "    if(count >= 9):\n",
    "        break\n",
    "        \n",
    "        \n",
    "print(\"do Loop End\")"
   ]
  },
  {
   "cell_type": "code",
   "execution_count": null,
   "metadata": {},
   "outputs": [],
   "source": []
  },
  {
   "cell_type": "code",
   "execution_count": null,
   "metadata": {},
   "outputs": [],
   "source": []
  },
  {
   "cell_type": "code",
   "execution_count": null,
   "metadata": {},
   "outputs": [],
   "source": []
  },
  {
   "cell_type": "markdown",
   "metadata": {},
   "source": [
    "<h3 align=center>For Loops </h3> "
   ]
  },
  {
   "cell_type": "code",
   "execution_count": 2,
   "metadata": {},
   "outputs": [
    {
     "name": "stdout",
     "output_type": "stream",
     "text": [
      "0\n",
      "2\n",
      "4\n",
      "6\n",
      "8\n"
     ]
    }
   ],
   "source": [
    "for count in range(0,10,2):\n",
    "    print(count)"
   ]
  },
  {
   "cell_type": "code",
   "execution_count": 4,
   "metadata": {},
   "outputs": [
    {
     "name": "stdout",
     "output_type": "stream",
     "text": [
      "Current Letter:a\n",
      "Current Letter:a\n"
     ]
    }
   ],
   "source": [
    "myStr = \"Pakistan\"\n",
    "for letter in myStr:\n",
    "    if(letter=='a'):\n",
    "        print('Current Letter:'+letter)"
   ]
  },
  {
   "cell_type": "code",
   "execution_count": 9,
   "metadata": {},
   "outputs": [
    {
     "name": "stdout",
     "output_type": "stream",
     "text": [
      "5\n"
     ]
    }
   ],
   "source": [
    "intList = [1,'a',3.5,4,[5,4]]\n",
    "print(len(intList))"
   ]
  },
  {
   "cell_type": "code",
   "execution_count": 12,
   "metadata": {},
   "outputs": [
    {
     "name": "stdout",
     "output_type": "stream",
     "text": [
      "1\n",
      "a\n",
      "3.5\n",
      "4\n",
      "[5, 4]\n"
     ]
    }
   ],
   "source": [
    "for index in range (len(intList)):\n",
    "    print(intList[index])"
   ]
  },
  {
   "cell_type": "code",
   "execution_count": 16,
   "metadata": {},
   "outputs": [
    {
     "name": "stdout",
     "output_type": "stream",
     "text": [
      "1\n",
      "a\n",
      "3.5\n",
      "4\n",
      "[5, 4]\n"
     ]
    }
   ],
   "source": [
    "for index in intList:\n",
    "    print(index)"
   ]
  },
  {
   "cell_type": "code",
   "execution_count": 8,
   "metadata": {},
   "outputs": [
    {
     "data": {
      "text/plain": [
       "[5, 4]"
      ]
     },
     "execution_count": 8,
     "metadata": {},
     "output_type": "execute_result"
    }
   ],
   "source": [
    "intList[-1]"
   ]
  },
  {
   "cell_type": "code",
   "execution_count": null,
   "metadata": {},
   "outputs": [],
   "source": []
  },
  {
   "cell_type": "code",
   "execution_count": null,
   "metadata": {},
   "outputs": [],
   "source": []
  }
 ],
 "metadata": {
  "kernelspec": {
   "display_name": "Python 3",
   "language": "python",
   "name": "python3"
  },
  "language_info": {
   "codemirror_mode": {
    "name": "ipython",
    "version": 3
   },
   "file_extension": ".py",
   "mimetype": "text/x-python",
   "name": "python",
   "nbconvert_exporter": "python",
   "pygments_lexer": "ipython3",
   "version": "3.8.8"
  }
 },
 "nbformat": 4,
 "nbformat_minor": 4
}
